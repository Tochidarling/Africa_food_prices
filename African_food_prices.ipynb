{
 "cells": [
  {
   "cell_type": "markdown",
   "id": "46c01cf5-91ae-473f-a3c9-edf43d628b63",
   "metadata": {},
   "source": [
    "# DATA EXPLORATION"
   ]
  },
  {
   "cell_type": "code",
   "execution_count": 1,
   "id": "3b99f63e-4aec-4995-8635-492e181b00a1",
   "metadata": {
    "tags": []
   },
   "outputs": [],
   "source": [
    "import numpy as np, pandas as pd\n",
    "import matplotlib.pyplot as plt, seaborn as sns"
   ]
  },
  {
   "cell_type": "markdown",
   "id": "47fe0644-a4cc-4983-9730-d13fa954080f",
   "metadata": {},
   "source": [
    "# Loading the africa food prices dataset"
   ]
  },
  {
   "cell_type": "code",
   "execution_count": 2,
   "id": "a0451593-c9b7-47d0-9d46-6ea6c9ef972b",
   "metadata": {
    "tags": []
   },
   "outputs": [],
   "source": [
    "missing_values = [\"N/a\",\"na\",np.nan]\n",
    "df = pd.read_csv(\"Python_project/africa_food_prices.csv\", na_values=missing_values)"
   ]
  },
  {
   "cell_type": "markdown",
   "id": "5c3b68b5-3b25-40e9-8883-672d0021b4a1",
   "metadata": {},
   "source": [
    "# Displaying the dataframe"
   ]
  },
  {
   "cell_type": "code",
   "execution_count": 3,
   "id": "2a566c9d-16a6-4c39-bd03-16614519b9d8",
   "metadata": {
    "tags": []
   },
   "outputs": [
    {
     "data": {
      "text/html": [
       "<div>\n",
       "<style scoped>\n",
       "    .dataframe tbody tr th:only-of-type {\n",
       "        vertical-align: middle;\n",
       "    }\n",
       "\n",
       "    .dataframe tbody tr th {\n",
       "        vertical-align: top;\n",
       "    }\n",
       "\n",
       "    .dataframe thead th {\n",
       "        text-align: right;\n",
       "    }\n",
       "</style>\n",
       "<table border=\"1\" class=\"dataframe\">\n",
       "  <thead>\n",
       "    <tr style=\"text-align: right;\">\n",
       "      <th></th>\n",
       "      <th>Unnamed: 0</th>\n",
       "      <th>country_id</th>\n",
       "      <th>country</th>\n",
       "      <th>state_id</th>\n",
       "      <th>state</th>\n",
       "      <th>market_id</th>\n",
       "      <th>market</th>\n",
       "      <th>produce_id</th>\n",
       "      <th>produce</th>\n",
       "      <th>currency_id</th>\n",
       "      <th>currency</th>\n",
       "      <th>pt_id</th>\n",
       "      <th>market_type</th>\n",
       "      <th>um_unit_id</th>\n",
       "      <th>quantity</th>\n",
       "      <th>month</th>\n",
       "      <th>year</th>\n",
       "      <th>price</th>\n",
       "      <th>mp_commoditysource</th>\n",
       "    </tr>\n",
       "  </thead>\n",
       "  <tbody>\n",
       "    <tr>\n",
       "      <th>0</th>\n",
       "      <td>15427</td>\n",
       "      <td>4.0</td>\n",
       "      <td>Algeria</td>\n",
       "      <td>344</td>\n",
       "      <td>Alger</td>\n",
       "      <td>1794</td>\n",
       "      <td>Algiers</td>\n",
       "      <td>52</td>\n",
       "      <td>Rice - Retail</td>\n",
       "      <td>0.0</td>\n",
       "      <td>DZD</td>\n",
       "      <td>15</td>\n",
       "      <td>Retail</td>\n",
       "      <td>5</td>\n",
       "      <td>KG</td>\n",
       "      <td>4</td>\n",
       "      <td>2015</td>\n",
       "      <td>90.0</td>\n",
       "      <td>NaN</td>\n",
       "    </tr>\n",
       "    <tr>\n",
       "      <th>1</th>\n",
       "      <td>15428</td>\n",
       "      <td>4.0</td>\n",
       "      <td>Algeria</td>\n",
       "      <td>344</td>\n",
       "      <td>Alger</td>\n",
       "      <td>1794</td>\n",
       "      <td>Algiers</td>\n",
       "      <td>52</td>\n",
       "      <td>Rice - Retail</td>\n",
       "      <td>0.0</td>\n",
       "      <td>DZD</td>\n",
       "      <td>15</td>\n",
       "      <td>Retail</td>\n",
       "      <td>5</td>\n",
       "      <td>KG</td>\n",
       "      <td>5</td>\n",
       "      <td>2015</td>\n",
       "      <td>96.0</td>\n",
       "      <td>NaN</td>\n",
       "    </tr>\n",
       "    <tr>\n",
       "      <th>2</th>\n",
       "      <td>15429</td>\n",
       "      <td>4.0</td>\n",
       "      <td>Algeria</td>\n",
       "      <td>344</td>\n",
       "      <td>Alger</td>\n",
       "      <td>1794</td>\n",
       "      <td>Algiers</td>\n",
       "      <td>52</td>\n",
       "      <td>Rice - Retail</td>\n",
       "      <td>0.0</td>\n",
       "      <td>DZD</td>\n",
       "      <td>15</td>\n",
       "      <td>Retail</td>\n",
       "      <td>5</td>\n",
       "      <td>KG</td>\n",
       "      <td>6</td>\n",
       "      <td>2015</td>\n",
       "      <td>96.0</td>\n",
       "      <td>NaN</td>\n",
       "    </tr>\n",
       "    <tr>\n",
       "      <th>3</th>\n",
       "      <td>15430</td>\n",
       "      <td>4.0</td>\n",
       "      <td>Algeria</td>\n",
       "      <td>344</td>\n",
       "      <td>Alger</td>\n",
       "      <td>1794</td>\n",
       "      <td>Algiers</td>\n",
       "      <td>52</td>\n",
       "      <td>Rice - Retail</td>\n",
       "      <td>0.0</td>\n",
       "      <td>DZD</td>\n",
       "      <td>15</td>\n",
       "      <td>Retail</td>\n",
       "      <td>5</td>\n",
       "      <td>KG</td>\n",
       "      <td>7</td>\n",
       "      <td>2015</td>\n",
       "      <td>83.0</td>\n",
       "      <td>NaN</td>\n",
       "    </tr>\n",
       "    <tr>\n",
       "      <th>4</th>\n",
       "      <td>15431</td>\n",
       "      <td>4.0</td>\n",
       "      <td>Algeria</td>\n",
       "      <td>344</td>\n",
       "      <td>Alger</td>\n",
       "      <td>1794</td>\n",
       "      <td>Algiers</td>\n",
       "      <td>52</td>\n",
       "      <td>Rice - Retail</td>\n",
       "      <td>0.0</td>\n",
       "      <td>DZD</td>\n",
       "      <td>15</td>\n",
       "      <td>Retail</td>\n",
       "      <td>5</td>\n",
       "      <td>KG</td>\n",
       "      <td>8</td>\n",
       "      <td>2015</td>\n",
       "      <td>80.0</td>\n",
       "      <td>NaN</td>\n",
       "    </tr>\n",
       "  </tbody>\n",
       "</table>\n",
       "</div>"
      ],
      "text/plain": [
       "   Unnamed: 0  country_id  country  state_id  state  market_id   market  \\\n",
       "0       15427         4.0  Algeria       344  Alger       1794  Algiers   \n",
       "1       15428         4.0  Algeria       344  Alger       1794  Algiers   \n",
       "2       15429         4.0  Algeria       344  Alger       1794  Algiers   \n",
       "3       15430         4.0  Algeria       344  Alger       1794  Algiers   \n",
       "4       15431         4.0  Algeria       344  Alger       1794  Algiers   \n",
       "\n",
       "   produce_id        produce  currency_id currency  pt_id market_type  \\\n",
       "0          52  Rice - Retail          0.0      DZD     15      Retail   \n",
       "1          52  Rice - Retail          0.0      DZD     15      Retail   \n",
       "2          52  Rice - Retail          0.0      DZD     15      Retail   \n",
       "3          52  Rice - Retail          0.0      DZD     15      Retail   \n",
       "4          52  Rice - Retail          0.0      DZD     15      Retail   \n",
       "\n",
       "   um_unit_id quantity  month  year  price  mp_commoditysource  \n",
       "0           5       KG      4  2015   90.0                 NaN  \n",
       "1           5       KG      5  2015   96.0                 NaN  \n",
       "2           5       KG      6  2015   96.0                 NaN  \n",
       "3           5       KG      7  2015   83.0                 NaN  \n",
       "4           5       KG      8  2015   80.0                 NaN  "
      ]
     },
     "execution_count": 3,
     "metadata": {},
     "output_type": "execute_result"
    }
   ],
   "source": [
    "df.head()"
   ]
  },
  {
   "cell_type": "markdown",
   "id": "b9a9bc23-1529-4d7b-8a2d-d77d7cb58ada",
   "metadata": {},
   "source": [
    "# Viewing the structure of the dataframe"
   ]
  },
  {
   "cell_type": "code",
   "execution_count": 4,
   "id": "01f3db8c-80f3-42fb-829c-c7520804d1ff",
   "metadata": {
    "tags": []
   },
   "outputs": [
    {
     "data": {
      "text/plain": [
       "(956779, 19)"
      ]
     },
     "execution_count": 4,
     "metadata": {},
     "output_type": "execute_result"
    }
   ],
   "source": [
    "df.shape"
   ]
  },
  {
   "cell_type": "markdown",
   "id": "d6974dda-f32f-42e0-b040-73a3158c8a34",
   "metadata": {},
   "source": [
    "# Displaying the info about the dataframe"
   ]
  },
  {
   "cell_type": "code",
   "execution_count": 5,
   "id": "79ebe114-3227-4f31-ad26-ce3e87040bb0",
   "metadata": {
    "tags": []
   },
   "outputs": [
    {
     "name": "stdout",
     "output_type": "stream",
     "text": [
      "<class 'pandas.core.frame.DataFrame'>\n",
      "RangeIndex: 956779 entries, 0 to 956778\n",
      "Data columns (total 19 columns):\n",
      " #   Column              Non-Null Count   Dtype  \n",
      "---  ------              --------------   -----  \n",
      " 0   Unnamed: 0          956779 non-null  int64  \n",
      " 1   country_id          956779 non-null  float64\n",
      " 2   country             956779 non-null  object \n",
      " 3   state_id            956779 non-null  int64  \n",
      " 4   state               830101 non-null  object \n",
      " 5   market_id           956779 non-null  int64  \n",
      " 6   market              956779 non-null  object \n",
      " 7   produce_id          956779 non-null  int64  \n",
      " 8   produce             956779 non-null  object \n",
      " 9   currency_id         956779 non-null  float64\n",
      " 10  currency            956779 non-null  object \n",
      " 11  pt_id               956779 non-null  int64  \n",
      " 12  market_type         956779 non-null  object \n",
      " 13  um_unit_id          956779 non-null  int64  \n",
      " 14  quantity            956779 non-null  object \n",
      " 15  month               956779 non-null  int64  \n",
      " 16  year                956779 non-null  int64  \n",
      " 17  price               956779 non-null  float64\n",
      " 18  mp_commoditysource  0 non-null       float64\n",
      "dtypes: float64(4), int64(8), object(7)\n",
      "memory usage: 138.7+ MB\n"
     ]
    }
   ],
   "source": [
    "df.info()"
   ]
  },
  {
   "cell_type": "markdown",
   "id": "d136b7bd-3ca5-4d86-8c44-f83c969ca7c7",
   "metadata": {},
   "source": [
    "# Checking for na values "
   ]
  },
  {
   "cell_type": "code",
   "execution_count": 6,
   "id": "57f490d1-d355-4697-a0b8-b6b9f97fcd08",
   "metadata": {
    "tags": []
   },
   "outputs": [
    {
     "name": "stdout",
     "output_type": "stream",
     "text": [
      "Unnamed: 0            False\n",
      "country_id            False\n",
      "country               False\n",
      "state_id              False\n",
      "state                  True\n",
      "market_id             False\n",
      "market                False\n",
      "produce_id            False\n",
      "produce               False\n",
      "currency_id           False\n",
      "currency              False\n",
      "pt_id                 False\n",
      "market_type           False\n",
      "um_unit_id            False\n",
      "quantity              False\n",
      "month                 False\n",
      "year                  False\n",
      "price                 False\n",
      "mp_commoditysource     True\n",
      "dtype: bool\n"
     ]
    }
   ],
   "source": [
    "print(df.isna().any())"
   ]
  },
  {
   "cell_type": "markdown",
   "id": "100ef60e-5238-4dbd-ae5d-bea6a5f2df8d",
   "metadata": {},
   "source": [
    "# Removing irrelevant columns"
   ]
  },
  {
   "cell_type": "code",
   "execution_count": 7,
   "id": "1b22f3a4-5da1-4998-91bd-f2a82d9b1058",
   "metadata": {
    "tags": []
   },
   "outputs": [],
   "source": [
    "df.drop(['Unnamed: 0','country_id','state_id','market_id',\n",
    "         'produce_id','currency_id','um_unit_id','pt_id',\n",
    "         'market_type','mp_commoditysource'], axis=1, inplace=True)"
   ]
  },
  {
   "cell_type": "code",
   "execution_count": 8,
   "id": "7502bb0b-1beb-4436-a0a2-3916305ad673",
   "metadata": {
    "tags": []
   },
   "outputs": [
    {
     "data": {
      "text/html": [
       "<div>\n",
       "<style scoped>\n",
       "    .dataframe tbody tr th:only-of-type {\n",
       "        vertical-align: middle;\n",
       "    }\n",
       "\n",
       "    .dataframe tbody tr th {\n",
       "        vertical-align: top;\n",
       "    }\n",
       "\n",
       "    .dataframe thead th {\n",
       "        text-align: right;\n",
       "    }\n",
       "</style>\n",
       "<table border=\"1\" class=\"dataframe\">\n",
       "  <thead>\n",
       "    <tr style=\"text-align: right;\">\n",
       "      <th></th>\n",
       "      <th>country</th>\n",
       "      <th>state</th>\n",
       "      <th>market</th>\n",
       "      <th>produce</th>\n",
       "      <th>currency</th>\n",
       "      <th>quantity</th>\n",
       "      <th>month</th>\n",
       "      <th>year</th>\n",
       "      <th>price</th>\n",
       "    </tr>\n",
       "  </thead>\n",
       "  <tbody>\n",
       "    <tr>\n",
       "      <th>0</th>\n",
       "      <td>Algeria</td>\n",
       "      <td>Alger</td>\n",
       "      <td>Algiers</td>\n",
       "      <td>Rice - Retail</td>\n",
       "      <td>DZD</td>\n",
       "      <td>KG</td>\n",
       "      <td>4</td>\n",
       "      <td>2015</td>\n",
       "      <td>90.0000</td>\n",
       "    </tr>\n",
       "    <tr>\n",
       "      <th>1</th>\n",
       "      <td>Algeria</td>\n",
       "      <td>Alger</td>\n",
       "      <td>Algiers</td>\n",
       "      <td>Rice - Retail</td>\n",
       "      <td>DZD</td>\n",
       "      <td>KG</td>\n",
       "      <td>5</td>\n",
       "      <td>2015</td>\n",
       "      <td>96.0000</td>\n",
       "    </tr>\n",
       "    <tr>\n",
       "      <th>2</th>\n",
       "      <td>Algeria</td>\n",
       "      <td>Alger</td>\n",
       "      <td>Algiers</td>\n",
       "      <td>Rice - Retail</td>\n",
       "      <td>DZD</td>\n",
       "      <td>KG</td>\n",
       "      <td>6</td>\n",
       "      <td>2015</td>\n",
       "      <td>96.0000</td>\n",
       "    </tr>\n",
       "    <tr>\n",
       "      <th>3</th>\n",
       "      <td>Algeria</td>\n",
       "      <td>Alger</td>\n",
       "      <td>Algiers</td>\n",
       "      <td>Rice - Retail</td>\n",
       "      <td>DZD</td>\n",
       "      <td>KG</td>\n",
       "      <td>7</td>\n",
       "      <td>2015</td>\n",
       "      <td>83.0000</td>\n",
       "    </tr>\n",
       "    <tr>\n",
       "      <th>4</th>\n",
       "      <td>Algeria</td>\n",
       "      <td>Alger</td>\n",
       "      <td>Algiers</td>\n",
       "      <td>Rice - Retail</td>\n",
       "      <td>DZD</td>\n",
       "      <td>KG</td>\n",
       "      <td>8</td>\n",
       "      <td>2015</td>\n",
       "      <td>80.0000</td>\n",
       "    </tr>\n",
       "    <tr>\n",
       "      <th>...</th>\n",
       "      <td>...</td>\n",
       "      <td>...</td>\n",
       "      <td>...</td>\n",
       "      <td>...</td>\n",
       "      <td>...</td>\n",
       "      <td>...</td>\n",
       "      <td>...</td>\n",
       "      <td>...</td>\n",
       "      <td>...</td>\n",
       "    </tr>\n",
       "    <tr>\n",
       "      <th>956774</th>\n",
       "      <td>Zimbabwe</td>\n",
       "      <td>Midlands</td>\n",
       "      <td>Mbilashaba</td>\n",
       "      <td>Beans (sugar) - Retail</td>\n",
       "      <td>ZWL</td>\n",
       "      <td>KG</td>\n",
       "      <td>6</td>\n",
       "      <td>2021</td>\n",
       "      <td>233.3333</td>\n",
       "    </tr>\n",
       "    <tr>\n",
       "      <th>956775</th>\n",
       "      <td>Zimbabwe</td>\n",
       "      <td>Midlands</td>\n",
       "      <td>Mbilashaba</td>\n",
       "      <td>Toothpaste - Retail</td>\n",
       "      <td>ZWL</td>\n",
       "      <td>100 ML</td>\n",
       "      <td>6</td>\n",
       "      <td>2021</td>\n",
       "      <td>112.5000</td>\n",
       "    </tr>\n",
       "    <tr>\n",
       "      <th>956776</th>\n",
       "      <td>Zimbabwe</td>\n",
       "      <td>Midlands</td>\n",
       "      <td>Mbilashaba</td>\n",
       "      <td>Laundry soap - Retail</td>\n",
       "      <td>ZWL</td>\n",
       "      <td>KG</td>\n",
       "      <td>6</td>\n",
       "      <td>2021</td>\n",
       "      <td>114.0000</td>\n",
       "    </tr>\n",
       "    <tr>\n",
       "      <th>956777</th>\n",
       "      <td>Zimbabwe</td>\n",
       "      <td>Midlands</td>\n",
       "      <td>Mbilashaba</td>\n",
       "      <td>Handwash soap - Retail</td>\n",
       "      <td>ZWL</td>\n",
       "      <td>250 G</td>\n",
       "      <td>6</td>\n",
       "      <td>2021</td>\n",
       "      <td>59.5000</td>\n",
       "    </tr>\n",
       "    <tr>\n",
       "      <th>956778</th>\n",
       "      <td>Zimbabwe</td>\n",
       "      <td>Midlands</td>\n",
       "      <td>Mbilashaba</td>\n",
       "      <td>Fish (kapenta) - Retail</td>\n",
       "      <td>ZWL</td>\n",
       "      <td>KG</td>\n",
       "      <td>6</td>\n",
       "      <td>2021</td>\n",
       "      <td>1200.0000</td>\n",
       "    </tr>\n",
       "  </tbody>\n",
       "</table>\n",
       "<p>956779 rows × 9 columns</p>\n",
       "</div>"
      ],
      "text/plain": [
       "         country     state      market                  produce currency  \\\n",
       "0        Algeria     Alger     Algiers            Rice - Retail      DZD   \n",
       "1        Algeria     Alger     Algiers            Rice - Retail      DZD   \n",
       "2        Algeria     Alger     Algiers            Rice - Retail      DZD   \n",
       "3        Algeria     Alger     Algiers            Rice - Retail      DZD   \n",
       "4        Algeria     Alger     Algiers            Rice - Retail      DZD   \n",
       "...          ...       ...         ...                      ...      ...   \n",
       "956774  Zimbabwe  Midlands  Mbilashaba   Beans (sugar) - Retail      ZWL   \n",
       "956775  Zimbabwe  Midlands  Mbilashaba      Toothpaste - Retail      ZWL   \n",
       "956776  Zimbabwe  Midlands  Mbilashaba    Laundry soap - Retail      ZWL   \n",
       "956777  Zimbabwe  Midlands  Mbilashaba   Handwash soap - Retail      ZWL   \n",
       "956778  Zimbabwe  Midlands  Mbilashaba  Fish (kapenta) - Retail      ZWL   \n",
       "\n",
       "       quantity  month  year      price  \n",
       "0            KG      4  2015    90.0000  \n",
       "1            KG      5  2015    96.0000  \n",
       "2            KG      6  2015    96.0000  \n",
       "3            KG      7  2015    83.0000  \n",
       "4            KG      8  2015    80.0000  \n",
       "...         ...    ...   ...        ...  \n",
       "956774       KG      6  2021   233.3333  \n",
       "956775   100 ML      6  2021   112.5000  \n",
       "956776       KG      6  2021   114.0000  \n",
       "956777    250 G      6  2021    59.5000  \n",
       "956778       KG      6  2021  1200.0000  \n",
       "\n",
       "[956779 rows x 9 columns]"
      ]
     },
     "execution_count": 8,
     "metadata": {},
     "output_type": "execute_result"
    }
   ],
   "source": [
    "df"
   ]
  },
  {
   "cell_type": "markdown",
   "id": "3d3b3295-9722-406e-9c9c-60331a118260",
   "metadata": {},
   "source": [
    "# Checking for na values"
   ]
  },
  {
   "cell_type": "code",
   "execution_count": 9,
   "id": "4dd76c1f-23f9-4d24-ae13-6a2358c3bd30",
   "metadata": {
    "tags": []
   },
   "outputs": [
    {
     "name": "stdout",
     "output_type": "stream",
     "text": [
      "country     False\n",
      "state        True\n",
      "market      False\n",
      "produce     False\n",
      "currency    False\n",
      "quantity    False\n",
      "month       False\n",
      "year        False\n",
      "price       False\n",
      "dtype: bool\n"
     ]
    }
   ],
   "source": [
    "print(df.isna().any())"
   ]
  },
  {
   "cell_type": "markdown",
   "id": "6f035429-cc7a-4153-a6fa-b9fa07f04b33",
   "metadata": {},
   "source": [
    "# Checking for null values "
   ]
  },
  {
   "cell_type": "code",
   "execution_count": 10,
   "id": "f908799c-5746-4ac4-ad6c-763d83cc5cba",
   "metadata": {
    "tags": []
   },
   "outputs": [
    {
     "name": "stdout",
     "output_type": "stream",
     "text": [
      "country          0\n",
      "state       126678\n",
      "market           0\n",
      "produce          0\n",
      "currency         0\n",
      "quantity         0\n",
      "month            0\n",
      "year             0\n",
      "price            0\n",
      "dtype: int64\n"
     ]
    }
   ],
   "source": [
    "\n",
    "print(df.isnull().sum())"
   ]
  },
  {
   "cell_type": "markdown",
   "id": "6d3987f1-7611-4a68-a2c4-20778a5ffc7a",
   "metadata": {},
   "source": [
    "# Filling na values in state with their country values"
   ]
  },
  {
   "cell_type": "code",
   "execution_count": 11,
   "id": "f688f2b0-bbbc-4073-8307-87ca7b0eb2f7",
   "metadata": {
    "tags": []
   },
   "outputs": [],
   "source": [
    "df['state'].fillna(df['country'], inplace=True)"
   ]
  },
  {
   "cell_type": "code",
   "execution_count": 12,
   "id": "b673017c-1a0f-4cce-b79d-193fb975e413",
   "metadata": {
    "tags": []
   },
   "outputs": [
    {
     "data": {
      "text/plain": [
       "0"
      ]
     },
     "execution_count": 12,
     "metadata": {},
     "output_type": "execute_result"
    }
   ],
   "source": [
    "df['state'].isnull().sum()"
   ]
  },
  {
   "cell_type": "code",
   "execution_count": 13,
   "id": "666e3318-f6e5-4724-8e8c-de1924cb4cf6",
   "metadata": {
    "tags": []
   },
   "outputs": [
    {
     "name": "stdout",
     "output_type": "stream",
     "text": [
      "country     0\n",
      "state       0\n",
      "market      0\n",
      "produce     0\n",
      "currency    0\n",
      "quantity    0\n",
      "month       0\n",
      "year        0\n",
      "price       0\n",
      "dtype: int64\n"
     ]
    }
   ],
   "source": [
    "print(df.isnull().sum())"
   ]
  },
  {
   "cell_type": "markdown",
   "id": "7bf55aeb-9f03-4d5e-a586-4cc33ae2456c",
   "metadata": {},
   "source": [
    "# Creating extra columns"
   ]
  },
  {
   "cell_type": "code",
   "execution_count": 14,
   "id": "f7cb5d42-7c4f-4a9d-89d7-418a075a9926",
   "metadata": {
    "tags": []
   },
   "outputs": [],
   "source": [
    "df[['produce_name', 'produce_type']] = df['produce'].str.split(' - ', expand=True)"
   ]
  },
  {
   "cell_type": "markdown",
   "id": "12c6fcfa-9adb-431d-acd6-f0267b2d6927",
   "metadata": {},
   "source": [
    "# Removing irrelevant columns"
   ]
  },
  {
   "cell_type": "code",
   "execution_count": 15,
   "id": "9d96ce66-1fbf-4736-896e-2f63be43321b",
   "metadata": {
    "tags": []
   },
   "outputs": [],
   "source": [
    "df.drop('produce', axis=1, inplace=True)"
   ]
  },
  {
   "cell_type": "code",
   "execution_count": 16,
   "id": "44095035-ceb0-4a86-9b2f-8371eb18b6de",
   "metadata": {
    "tags": []
   },
   "outputs": [
    {
     "data": {
      "text/html": [
       "<div>\n",
       "<style scoped>\n",
       "    .dataframe tbody tr th:only-of-type {\n",
       "        vertical-align: middle;\n",
       "    }\n",
       "\n",
       "    .dataframe tbody tr th {\n",
       "        vertical-align: top;\n",
       "    }\n",
       "\n",
       "    .dataframe thead th {\n",
       "        text-align: right;\n",
       "    }\n",
       "</style>\n",
       "<table border=\"1\" class=\"dataframe\">\n",
       "  <thead>\n",
       "    <tr style=\"text-align: right;\">\n",
       "      <th></th>\n",
       "      <th>country</th>\n",
       "      <th>state</th>\n",
       "      <th>market</th>\n",
       "      <th>currency</th>\n",
       "      <th>quantity</th>\n",
       "      <th>month</th>\n",
       "      <th>year</th>\n",
       "      <th>price</th>\n",
       "      <th>produce_name</th>\n",
       "      <th>produce_type</th>\n",
       "    </tr>\n",
       "  </thead>\n",
       "  <tbody>\n",
       "    <tr>\n",
       "      <th>0</th>\n",
       "      <td>Algeria</td>\n",
       "      <td>Alger</td>\n",
       "      <td>Algiers</td>\n",
       "      <td>DZD</td>\n",
       "      <td>KG</td>\n",
       "      <td>4</td>\n",
       "      <td>2015</td>\n",
       "      <td>90.0000</td>\n",
       "      <td>Rice</td>\n",
       "      <td>Retail</td>\n",
       "    </tr>\n",
       "    <tr>\n",
       "      <th>1</th>\n",
       "      <td>Algeria</td>\n",
       "      <td>Alger</td>\n",
       "      <td>Algiers</td>\n",
       "      <td>DZD</td>\n",
       "      <td>KG</td>\n",
       "      <td>5</td>\n",
       "      <td>2015</td>\n",
       "      <td>96.0000</td>\n",
       "      <td>Rice</td>\n",
       "      <td>Retail</td>\n",
       "    </tr>\n",
       "    <tr>\n",
       "      <th>2</th>\n",
       "      <td>Algeria</td>\n",
       "      <td>Alger</td>\n",
       "      <td>Algiers</td>\n",
       "      <td>DZD</td>\n",
       "      <td>KG</td>\n",
       "      <td>6</td>\n",
       "      <td>2015</td>\n",
       "      <td>96.0000</td>\n",
       "      <td>Rice</td>\n",
       "      <td>Retail</td>\n",
       "    </tr>\n",
       "    <tr>\n",
       "      <th>3</th>\n",
       "      <td>Algeria</td>\n",
       "      <td>Alger</td>\n",
       "      <td>Algiers</td>\n",
       "      <td>DZD</td>\n",
       "      <td>KG</td>\n",
       "      <td>7</td>\n",
       "      <td>2015</td>\n",
       "      <td>83.0000</td>\n",
       "      <td>Rice</td>\n",
       "      <td>Retail</td>\n",
       "    </tr>\n",
       "    <tr>\n",
       "      <th>4</th>\n",
       "      <td>Algeria</td>\n",
       "      <td>Alger</td>\n",
       "      <td>Algiers</td>\n",
       "      <td>DZD</td>\n",
       "      <td>KG</td>\n",
       "      <td>8</td>\n",
       "      <td>2015</td>\n",
       "      <td>80.0000</td>\n",
       "      <td>Rice</td>\n",
       "      <td>Retail</td>\n",
       "    </tr>\n",
       "    <tr>\n",
       "      <th>...</th>\n",
       "      <td>...</td>\n",
       "      <td>...</td>\n",
       "      <td>...</td>\n",
       "      <td>...</td>\n",
       "      <td>...</td>\n",
       "      <td>...</td>\n",
       "      <td>...</td>\n",
       "      <td>...</td>\n",
       "      <td>...</td>\n",
       "      <td>...</td>\n",
       "    </tr>\n",
       "    <tr>\n",
       "      <th>956774</th>\n",
       "      <td>Zimbabwe</td>\n",
       "      <td>Midlands</td>\n",
       "      <td>Mbilashaba</td>\n",
       "      <td>ZWL</td>\n",
       "      <td>KG</td>\n",
       "      <td>6</td>\n",
       "      <td>2021</td>\n",
       "      <td>233.3333</td>\n",
       "      <td>Beans (sugar)</td>\n",
       "      <td>Retail</td>\n",
       "    </tr>\n",
       "    <tr>\n",
       "      <th>956775</th>\n",
       "      <td>Zimbabwe</td>\n",
       "      <td>Midlands</td>\n",
       "      <td>Mbilashaba</td>\n",
       "      <td>ZWL</td>\n",
       "      <td>100 ML</td>\n",
       "      <td>6</td>\n",
       "      <td>2021</td>\n",
       "      <td>112.5000</td>\n",
       "      <td>Toothpaste</td>\n",
       "      <td>Retail</td>\n",
       "    </tr>\n",
       "    <tr>\n",
       "      <th>956776</th>\n",
       "      <td>Zimbabwe</td>\n",
       "      <td>Midlands</td>\n",
       "      <td>Mbilashaba</td>\n",
       "      <td>ZWL</td>\n",
       "      <td>KG</td>\n",
       "      <td>6</td>\n",
       "      <td>2021</td>\n",
       "      <td>114.0000</td>\n",
       "      <td>Laundry soap</td>\n",
       "      <td>Retail</td>\n",
       "    </tr>\n",
       "    <tr>\n",
       "      <th>956777</th>\n",
       "      <td>Zimbabwe</td>\n",
       "      <td>Midlands</td>\n",
       "      <td>Mbilashaba</td>\n",
       "      <td>ZWL</td>\n",
       "      <td>250 G</td>\n",
       "      <td>6</td>\n",
       "      <td>2021</td>\n",
       "      <td>59.5000</td>\n",
       "      <td>Handwash soap</td>\n",
       "      <td>Retail</td>\n",
       "    </tr>\n",
       "    <tr>\n",
       "      <th>956778</th>\n",
       "      <td>Zimbabwe</td>\n",
       "      <td>Midlands</td>\n",
       "      <td>Mbilashaba</td>\n",
       "      <td>ZWL</td>\n",
       "      <td>KG</td>\n",
       "      <td>6</td>\n",
       "      <td>2021</td>\n",
       "      <td>1200.0000</td>\n",
       "      <td>Fish (kapenta)</td>\n",
       "      <td>Retail</td>\n",
       "    </tr>\n",
       "  </tbody>\n",
       "</table>\n",
       "<p>956779 rows × 10 columns</p>\n",
       "</div>"
      ],
      "text/plain": [
       "         country     state      market currency quantity  month  year  \\\n",
       "0        Algeria     Alger     Algiers      DZD       KG      4  2015   \n",
       "1        Algeria     Alger     Algiers      DZD       KG      5  2015   \n",
       "2        Algeria     Alger     Algiers      DZD       KG      6  2015   \n",
       "3        Algeria     Alger     Algiers      DZD       KG      7  2015   \n",
       "4        Algeria     Alger     Algiers      DZD       KG      8  2015   \n",
       "...          ...       ...         ...      ...      ...    ...   ...   \n",
       "956774  Zimbabwe  Midlands  Mbilashaba      ZWL       KG      6  2021   \n",
       "956775  Zimbabwe  Midlands  Mbilashaba      ZWL   100 ML      6  2021   \n",
       "956776  Zimbabwe  Midlands  Mbilashaba      ZWL       KG      6  2021   \n",
       "956777  Zimbabwe  Midlands  Mbilashaba      ZWL    250 G      6  2021   \n",
       "956778  Zimbabwe  Midlands  Mbilashaba      ZWL       KG      6  2021   \n",
       "\n",
       "            price    produce_name produce_type  \n",
       "0         90.0000            Rice       Retail  \n",
       "1         96.0000            Rice       Retail  \n",
       "2         96.0000            Rice       Retail  \n",
       "3         83.0000            Rice       Retail  \n",
       "4         80.0000            Rice       Retail  \n",
       "...           ...             ...          ...  \n",
       "956774   233.3333   Beans (sugar)       Retail  \n",
       "956775   112.5000      Toothpaste       Retail  \n",
       "956776   114.0000    Laundry soap       Retail  \n",
       "956777    59.5000   Handwash soap       Retail  \n",
       "956778  1200.0000  Fish (kapenta)       Retail  \n",
       "\n",
       "[956779 rows x 10 columns]"
      ]
     },
     "execution_count": 16,
     "metadata": {},
     "output_type": "execute_result"
    }
   ],
   "source": [
    "df"
   ]
  },
  {
   "cell_type": "code",
   "execution_count": 17,
   "id": "45cefdf6-32bf-43b9-b6a0-b09a8978e4b4",
   "metadata": {
    "tags": []
   },
   "outputs": [
    {
     "data": {
      "text/plain": [
       "country          object\n",
       "state            object\n",
       "market           object\n",
       "currency         object\n",
       "quantity         object\n",
       "month             int64\n",
       "year              int64\n",
       "price           float64\n",
       "produce_name     object\n",
       "produce_type     object\n",
       "dtype: object"
      ]
     },
     "execution_count": 17,
     "metadata": {},
     "output_type": "execute_result"
    }
   ],
   "source": [
    "df.dtypes"
   ]
  },
  {
   "cell_type": "code",
   "execution_count": null,
   "id": "38057b5b-25da-4852-93ec-49193a356e25",
   "metadata": {},
   "outputs": [],
   "source": []
  },
  {
   "cell_type": "markdown",
   "id": "9c8e3b34-f639-440a-bcea-ec2721662c0c",
   "metadata": {},
   "source": [
    "# RESEARCH QUESTIONS\n",
    "\n",
    "- What are the total market size\n",
    "- What are the total number of countries involved\n",
    "- What are the total number of currencies in use\n",
    "- List all the countries and their currencies\n",
    "- Show summary of Nigeria market\n",
    "- What are the top 10 largest produce\n",
    "- What are the least 10 produce"
   ]
  },
  {
   "cell_type": "markdown",
   "id": "687d24c8-b6b2-4bcf-a1e4-b12e50a13f96",
   "metadata": {},
   "source": [
    "# Total market size "
   ]
  },
  {
   "cell_type": "code",
   "execution_count": 18,
   "id": "96641d44-84c0-4705-b029-cb79908e3b6f",
   "metadata": {
    "tags": []
   },
   "outputs": [
    {
     "data": {
      "text/plain": [
       "1696"
      ]
     },
     "execution_count": 18,
     "metadata": {},
     "output_type": "execute_result"
    }
   ],
   "source": [
    "np.size((df['market'].unique()))"
   ]
  },
  {
   "cell_type": "markdown",
   "id": "764a6e2d-1f85-4ad6-8f6b-6de32f7ee5c5",
   "metadata": {},
   "source": [
    "# Total number of countries involved"
   ]
  },
  {
   "cell_type": "code",
   "execution_count": 19,
   "id": "5e87117b-6392-4822-ab51-09f8ab05309e",
   "metadata": {
    "tags": []
   },
   "outputs": [
    {
     "data": {
      "text/plain": [
       "42"
      ]
     },
     "execution_count": 19,
     "metadata": {},
     "output_type": "execute_result"
    }
   ],
   "source": [
    "np.size((df['country'].unique()))"
   ]
  },
  {
   "cell_type": "markdown",
   "id": "cb977b4a-95df-4d90-ba01-268eea8c0abe",
   "metadata": {},
   "source": [
    "# Total number of currencies in use "
   ]
  },
  {
   "cell_type": "code",
   "execution_count": 20,
   "id": "f5a1c255-8881-4b9a-bbdf-febafe129d92",
   "metadata": {
    "tags": []
   },
   "outputs": [
    {
     "data": {
      "text/plain": [
       "34"
      ]
     },
     "execution_count": 20,
     "metadata": {},
     "output_type": "execute_result"
    }
   ],
   "source": [
    "np.size((df['currency'].unique()))"
   ]
  },
  {
   "cell_type": "markdown",
   "id": "1c02aa7e-2021-4fba-ad0f-0634528bfce0",
   "metadata": {},
   "source": [
    "# All currencies in use"
   ]
  },
  {
   "cell_type": "code",
   "execution_count": 21,
   "id": "8c55f63e-9998-49c0-8619-ee7e595b9911",
   "metadata": {
    "tags": []
   },
   "outputs": [
    {
     "data": {
      "text/plain": [
       "array(['DZD', 'AOA', 'XOF', 'BIF', 'XAF', 'CVE', 'DJF', 'EGP', 'ERN',\n",
       "       'ETB', 'GMD', 'GHS', 'GNF', 'KES', 'LSL', 'LRD', 'LYD', 'MGA',\n",
       "       'MWK', 'MRO', 'MZN', 'NAD', 'NGN', 'RWF', 'SLL', 'SOS', 'ZAR',\n",
       "       'SSP', 'SDG', 'SZL', 'UGX', 'ZMW', 'USD', 'ZWL'], dtype=object)"
      ]
     },
     "execution_count": 21,
     "metadata": {},
     "output_type": "execute_result"
    }
   ],
   "source": [
    "df['currency'].unique()"
   ]
  },
  {
   "cell_type": "markdown",
   "id": "c67eccf7-e871-4a78-8a86-7cd92a6298dc",
   "metadata": {},
   "source": [
    "# Countries and their currencies"
   ]
  },
  {
   "cell_type": "code",
   "execution_count": 22,
   "id": "63ade58d-953d-4d63-93fc-cb48a8ec8c4d",
   "metadata": {
    "tags": []
   },
   "outputs": [
    {
     "name": "stdout",
     "output_type": "stream",
     "text": [
      "country                   currency\n",
      "Rwanda                    RWF         137746\n",
      "Mali                      XOF          73843\n",
      "Burundi                   BIF          60921\n",
      "Gambia                    GMD          56971\n",
      "Niger                     XOF          54974\n",
      "Nigeria                   NGN          50285\n",
      "Zambia                    ZMW          42793\n",
      "Mozambique                MZN          42278\n",
      "Libya                     LYD          41207\n",
      "Benin                     XOF          39530\n",
      "Senegal                   XOF          33563\n",
      "Ghana                     GHS          25414\n",
      "Ethiopia                  ETB          24627\n",
      "Malawi                    MWK          22682\n",
      "Cameroon                  XAF          22476\n",
      "Guinea-Bissau             XOF          19796\n",
      "Chad                      XAF          18896\n",
      "Somalia                   SOS          18444\n",
      "South Sudan               SSP          17746\n",
      "Central African Republic  XAF          12720\n",
      "Liberia                   LRD          12302\n",
      "Guinea                    GNF          11810\n",
      "Sierra Leone              SLL          11645\n",
      "Mauritania                MRO          10871\n",
      "Sudan                     SDG           9890\n",
      "Lesotho                   LSL           9364\n",
      "Madagascar                MGA           9193\n",
      "Kenya                     KES           8884\n",
      "Uganda                    UGX           7781\n",
      "Namibia                   NAD           7163\n",
      "Zimbabwe                  ZWL           6555\n",
      "Djibouti                  DJF           6006\n",
      "Togo                      XOF           5615\n",
      "Congo                     XAF           5257\n",
      "Zimbabwe                  USD           4402\n",
      "Swaziland                 SZL           4247\n",
      "Egypt                     EGP           2304\n",
      "Cape Verde                CVE           2135\n",
      "Algeria                   DZD           1793\n",
      "Angola                    AOA           1272\n",
      "South Africa              ZAR            774\n",
      "Gabon                     XAF            504\n",
      "Eritrea                   ERN            100\n",
      "Name: count, dtype: int64\n"
     ]
    }
   ],
   "source": [
    "print(df[['country','currency']].value_counts(dropna=False))"
   ]
  },
  {
   "cell_type": "markdown",
   "id": "6e6fbf71-6053-48a4-851b-1db7b55d708f",
   "metadata": {},
   "source": [
    "# Nigerian market summary"
   ]
  },
  {
   "cell_type": "code",
   "execution_count": 23,
   "id": "5a6a01ee-54f6-48f5-a6c3-67cd4116cdac",
   "metadata": {
    "tags": []
   },
   "outputs": [
    {
     "data": {
      "text/plain": [
       "country  state    market         currency  quantity  month  year  price      produce_name     produce_type\n",
       "Nigeria  Abia     Aba            NGN       100 KG    3      2017  15920.000  Maize (white)    Wholesale       1\n",
       "         Yobe     Bade (Gashua)  NGN       1.4 KG    9      2017  750.000    Rice (local)     Retail          1\n",
       "                                                            2018  135.000    Millet           Retail          1\n",
       "                                                                  350.000    Rice (local)     Retail          1\n",
       "                                                                  450.000    Rice (imported)  Retail          1\n",
       "                                                                                                             ..\n",
       "         Gombe    Gombe          NGN       100 KG    9      2019  7375.000   Sorghum (white)  Wholesale       1\n",
       "                                                                  8300.000   Maize (white)    Wholesale       1\n",
       "                                                                             Maize (yellow)   Wholesale       1\n",
       "                                                                  11000.000  Gari (white)     Wholesale       1\n",
       "         Zamfara  Kaura Namoda   NGN       Unit      12     2020  589.284    Bread            Retail          1\n",
       "Name: count, Length: 50285, dtype: int64"
      ]
     },
     "execution_count": 23,
     "metadata": {},
     "output_type": "execute_result"
    }
   ],
   "source": [
    "df[df['country'] == 'Nigeria'].value_counts()"
   ]
  },
  {
   "cell_type": "markdown",
   "id": "be9b717f-08ce-4eda-8095-5cd892b74bad",
   "metadata": {},
   "source": [
    "# Top 10 largest produce "
   ]
  },
  {
   "cell_type": "code",
   "execution_count": 24,
   "id": "4fa9e4f4-cda7-4e59-939f-84b56de0aba1",
   "metadata": {},
   "outputs": [
    {
     "data": {
      "image/png": "[encoded data removed]",
      "text/plain": [
       "<Figure size 640x480 with 1 Axes>"
      ]
     },
     "metadata": {},
     "output_type": "display_data"
    }
   ],
   "source": [
    "df['produce_name'].value_counts().nlargest(10).plot(kind='bar', color=sns.color_palette('viridis'))\n",
    "plt.show()"
   ]
  },
  {
   "cell_type": "markdown",
   "id": "172d3206-8172-4840-9d39-c836b7bd31d1",
   "metadata": {},
   "source": [
    "# 10 smallest produce "
   ]
  },
  {
   "cell_type": "code",
   "execution_count": 25,
   "id": "f92c5f31-7efd-4099-b061-379fa05d1d55",
   "metadata": {
    "tags": []
   },
   "outputs": [
    {
     "data": {
      "image/png": "[encoded data removed]",
      "text/plain": [
       "<Figure size 640x480 with 1 Axes>"
      ]
     },
     "metadata": {},
     "output_type": "display_data"
    }
   ],
   "source": [
    "df['produce_name'].value_counts().nsmallest(10).plot(kind='bar', color=sns.color_palette('magma'))\n",
    "plt.show()"
   ]
  },
  {
   "cell_type": "markdown",
   "id": "0237a6d7-42b4-43fe-9dac-328ad6ac72af",
   "metadata": {},
   "source": [
    "# Count of the produce_type column"
   ]
  },
  {
   "cell_type": "code",
   "execution_count": 26,
   "id": "f08ebda8-6a50-4dd6-9254-6c6bb2b2d9e5",
   "metadata": {
    "tags": []
   },
   "outputs": [
    {
     "data": {
      "image/png": "[encoded data removed]",
      "text/plain": [
       "<Figure size 640x480 with 1 Axes>"
      ]
     },
     "metadata": {},
     "output_type": "display_data"
    }
   ],
   "source": [
    "sns.countplot(data=df, x=df.produce_type)\n",
    "plt.show()"
   ]
  },
  {
   "cell_type": "markdown",
   "id": "2138fdd6-e388-41da-b7cc-f239ffcffd69",
   "metadata": {},
   "source": [
    "# Checking statistical summary of data items by\n",
    "* Country\n",
    "* Currency\n",
    "* Produce type"
   ]
  },
  {
   "cell_type": "code",
   "execution_count": 27,
   "id": "a911344f-ea2a-45ac-bfbd-7b687f2f01d6",
   "metadata": {
    "tags": []
   },
   "outputs": [],
   "source": [
    "df_grp = df.groupby(['country', 'currency','produce_type'])"
   ]
  },
  {
   "cell_type": "code",
   "execution_count": 28,
   "id": "3c0dedfb-b837-4917-bdc1-4a568e543f53",
   "metadata": {
    "tags": []
   },
   "outputs": [
    {
     "data": {
      "text/html": [
       "<div>\n",
       "<style scoped>\n",
       "    .dataframe tbody tr th:only-of-type {\n",
       "        vertical-align: middle;\n",
       "    }\n",
       "\n",
       "    .dataframe tbody tr th {\n",
       "        vertical-align: top;\n",
       "    }\n",
       "\n",
       "    .dataframe thead th {\n",
       "        text-align: right;\n",
       "    }\n",
       "</style>\n",
       "<table border=\"1\" class=\"dataframe\">\n",
       "  <thead>\n",
       "    <tr style=\"text-align: right;\">\n",
       "      <th></th>\n",
       "      <th></th>\n",
       "      <th></th>\n",
       "      <th>min</th>\n",
       "      <th>max</th>\n",
       "      <th>mean</th>\n",
       "    </tr>\n",
       "    <tr>\n",
       "      <th>country</th>\n",
       "      <th>currency</th>\n",
       "      <th>produce_type</th>\n",
       "      <th></th>\n",
       "      <th></th>\n",
       "      <th></th>\n",
       "    </tr>\n",
       "  </thead>\n",
       "  <tbody>\n",
       "    <tr>\n",
       "      <th>Algeria</th>\n",
       "      <th>DZD</th>\n",
       "      <th>Retail</th>\n",
       "      <td>4.0000</td>\n",
       "      <td>1.200000e+03</td>\n",
       "      <td>164.961907</td>\n",
       "    </tr>\n",
       "    <tr>\n",
       "      <th>Angola</th>\n",
       "      <th>AOA</th>\n",
       "      <th>Retail</th>\n",
       "      <td>35.2000</td>\n",
       "      <td>1.428095e+04</td>\n",
       "      <td>1038.963442</td>\n",
       "    </tr>\n",
       "    <tr>\n",
       "      <th rowspan=\"2\" valign=\"top\">Benin</th>\n",
       "      <th rowspan=\"2\" valign=\"top\">XOF</th>\n",
       "      <th>Retail</th>\n",
       "      <td>3.0000</td>\n",
       "      <td>2.184359e+04</td>\n",
       "      <td>616.286497</td>\n",
       "    </tr>\n",
       "    <tr>\n",
       "      <th>Wholesale</th>\n",
       "      <td>71.2500</td>\n",
       "      <td>4.530000e+02</td>\n",
       "      <td>188.163428</td>\n",
       "    </tr>\n",
       "    <tr>\n",
       "      <th rowspan=\"2\" valign=\"top\">Burundi</th>\n",
       "      <th rowspan=\"2\" valign=\"top\">BIF</th>\n",
       "      <th>Retail</th>\n",
       "      <td>1.0000</td>\n",
       "      <td>7.360400e+04</td>\n",
       "      <td>2523.920066</td>\n",
       "    </tr>\n",
       "    <tr>\n",
       "      <th>Wholesale</th>\n",
       "      <td>293.6700</td>\n",
       "      <td>1.528853e+03</td>\n",
       "      <td>777.709002</td>\n",
       "    </tr>\n",
       "    <tr>\n",
       "      <th rowspan=\"2\" valign=\"top\">Cameroon</th>\n",
       "      <th rowspan=\"2\" valign=\"top\">XAF</th>\n",
       "      <th>Retail</th>\n",
       "      <td>65.7200</td>\n",
       "      <td>3.000000e+04</td>\n",
       "      <td>1969.496117</td>\n",
       "    </tr>\n",
       "    <tr>\n",
       "      <th>Wholesale</th>\n",
       "      <td>400.0000</td>\n",
       "      <td>1.600000e+05</td>\n",
       "      <td>25499.473397</td>\n",
       "    </tr>\n",
       "    <tr>\n",
       "      <th>Cape Verde</th>\n",
       "      <th>CVE</th>\n",
       "      <th>Retail</th>\n",
       "      <td>27.4100</td>\n",
       "      <td>3.466700e+02</td>\n",
       "      <td>87.230546</td>\n",
       "    </tr>\n",
       "    <tr>\n",
       "      <th>Central African Republic</th>\n",
       "      <th>XAF</th>\n",
       "      <th>Retail</th>\n",
       "      <td>5.0000</td>\n",
       "      <td>1.035341e+04</td>\n",
       "      <td>980.444644</td>\n",
       "    </tr>\n",
       "    <tr>\n",
       "      <th>Chad</th>\n",
       "      <th>XAF</th>\n",
       "      <th>Retail</th>\n",
       "      <td>15.0000</td>\n",
       "      <td>2.148330e+05</td>\n",
       "      <td>6402.038909</td>\n",
       "    </tr>\n",
       "    <tr>\n",
       "      <th>Congo</th>\n",
       "      <th>XAF</th>\n",
       "      <th>Retail</th>\n",
       "      <td>118.0000</td>\n",
       "      <td>1.380000e+04</td>\n",
       "      <td>1461.473620</td>\n",
       "    </tr>\n",
       "    <tr>\n",
       "      <th rowspan=\"2\" valign=\"top\">Djibouti</th>\n",
       "      <th rowspan=\"2\" valign=\"top\">DJF</th>\n",
       "      <th>Retail</th>\n",
       "      <td>22.5000</td>\n",
       "      <td>4.000000e+02</td>\n",
       "      <td>152.346725</td>\n",
       "    </tr>\n",
       "    <tr>\n",
       "      <th>Wholesale</th>\n",
       "      <td>3400.0000</td>\n",
       "      <td>1.450000e+04</td>\n",
       "      <td>6818.259386</td>\n",
       "    </tr>\n",
       "    <tr>\n",
       "      <th>Egypt</th>\n",
       "      <th>EGP</th>\n",
       "      <th>Retail</th>\n",
       "      <td>0.6600</td>\n",
       "      <td>1.504600e+02</td>\n",
       "      <td>19.291319</td>\n",
       "    </tr>\n",
       "    <tr>\n",
       "      <th>Eritrea</th>\n",
       "      <th>ERN</th>\n",
       "      <th>Retail</th>\n",
       "      <td>900.0000</td>\n",
       "      <td>5.000000e+03</td>\n",
       "      <td>2272.000000</td>\n",
       "    </tr>\n",
       "    <tr>\n",
       "      <th rowspan=\"2\" valign=\"top\">Ethiopia</th>\n",
       "      <th rowspan=\"2\" valign=\"top\">ETB</th>\n",
       "      <th>Retail</th>\n",
       "      <td>0.7680</td>\n",
       "      <td>4.800000e+04</td>\n",
       "      <td>1266.349868</td>\n",
       "    </tr>\n",
       "    <tr>\n",
       "      <th>Wholesale</th>\n",
       "      <td>43.2500</td>\n",
       "      <td>6.000000e+03</td>\n",
       "      <td>1122.492621</td>\n",
       "    </tr>\n",
       "    <tr>\n",
       "      <th>Gabon</th>\n",
       "      <th>XAF</th>\n",
       "      <th>Retail</th>\n",
       "      <td>303.0000</td>\n",
       "      <td>1.519000e+03</td>\n",
       "      <td>691.063492</td>\n",
       "    </tr>\n",
       "    <tr>\n",
       "      <th>Gambia</th>\n",
       "      <th>GMD</th>\n",
       "      <th>Retail</th>\n",
       "      <td>0.0000</td>\n",
       "      <td>1.000000e+03</td>\n",
       "      <td>56.864125</td>\n",
       "    </tr>\n",
       "    <tr>\n",
       "      <th rowspan=\"2\" valign=\"top\">Ghana</th>\n",
       "      <th rowspan=\"2\" valign=\"top\">GHS</th>\n",
       "      <th>Retail</th>\n",
       "      <td>0.3200</td>\n",
       "      <td>8.195000e+01</td>\n",
       "      <td>4.739632</td>\n",
       "    </tr>\n",
       "    <tr>\n",
       "      <th>Wholesale</th>\n",
       "      <td>0.8700</td>\n",
       "      <td>2.960780e+03</td>\n",
       "      <td>147.103357</td>\n",
       "    </tr>\n",
       "    <tr>\n",
       "      <th>Guinea</th>\n",
       "      <th>GNF</th>\n",
       "      <th>Retail</th>\n",
       "      <td>500.0000</td>\n",
       "      <td>9.000000e+04</td>\n",
       "      <td>10879.303370</td>\n",
       "    </tr>\n",
       "    <tr>\n",
       "      <th>Guinea-Bissau</th>\n",
       "      <th>XOF</th>\n",
       "      <th>Retail</th>\n",
       "      <td>1.0350</td>\n",
       "      <td>9.464000e+03</td>\n",
       "      <td>877.138516</td>\n",
       "    </tr>\n",
       "    <tr>\n",
       "      <th rowspan=\"2\" valign=\"top\">Kenya</th>\n",
       "      <th rowspan=\"2\" valign=\"top\">KES</th>\n",
       "      <th>Retail</th>\n",
       "      <td>5.0000</td>\n",
       "      <td>7.000000e+02</td>\n",
       "      <td>94.702955</td>\n",
       "    </tr>\n",
       "    <tr>\n",
       "      <th>Wholesale</th>\n",
       "      <td>10.4270</td>\n",
       "      <td>1.035000e+04</td>\n",
       "      <td>2292.169342</td>\n",
       "    </tr>\n",
       "    <tr>\n",
       "      <th>Lesotho</th>\n",
       "      <th>LSL</th>\n",
       "      <th>Retail</th>\n",
       "      <td>5.0000</td>\n",
       "      <td>1.262400e+02</td>\n",
       "      <td>33.346925</td>\n",
       "    </tr>\n",
       "    <tr>\n",
       "      <th>Liberia</th>\n",
       "      <th>LRD</th>\n",
       "      <th>Retail</th>\n",
       "      <td>5.0000</td>\n",
       "      <td>1.100000e+04</td>\n",
       "      <td>1273.684710</td>\n",
       "    </tr>\n",
       "    <tr>\n",
       "      <th>Libya</th>\n",
       "      <th>LYD</th>\n",
       "      <th>Retail</th>\n",
       "      <td>0.0100</td>\n",
       "      <td>3.339167e+02</td>\n",
       "      <td>5.647125</td>\n",
       "    </tr>\n",
       "    <tr>\n",
       "      <th rowspan=\"2\" valign=\"top\">Madagascar</th>\n",
       "      <th rowspan=\"2\" valign=\"top\">MGA</th>\n",
       "      <th>Producer</th>\n",
       "      <td>220.0000</td>\n",
       "      <td>1.103000e+03</td>\n",
       "      <td>666.338710</td>\n",
       "    </tr>\n",
       "    <tr>\n",
       "      <th>Retail</th>\n",
       "      <td>400.0000</td>\n",
       "      <td>9.800000e+03</td>\n",
       "      <td>2601.871071</td>\n",
       "    </tr>\n",
       "    <tr>\n",
       "      <th>Malawi</th>\n",
       "      <th>MWK</th>\n",
       "      <th>Retail</th>\n",
       "      <td>6.4467</td>\n",
       "      <td>1.032578e+04</td>\n",
       "      <td>271.992494</td>\n",
       "    </tr>\n",
       "    <tr>\n",
       "      <th>Mali</th>\n",
       "      <th>XOF</th>\n",
       "      <th>Retail</th>\n",
       "      <td>20.0000</td>\n",
       "      <td>4.745000e+05</td>\n",
       "      <td>2456.511270</td>\n",
       "    </tr>\n",
       "    <tr>\n",
       "      <th>Mauritania</th>\n",
       "      <th>MRO</th>\n",
       "      <th>Retail</th>\n",
       "      <td>8.5000</td>\n",
       "      <td>3.000000e+05</td>\n",
       "      <td>2419.777530</td>\n",
       "    </tr>\n",
       "    <tr>\n",
       "      <th rowspan=\"2\" valign=\"top\">Mozambique</th>\n",
       "      <th rowspan=\"2\" valign=\"top\">MZN</th>\n",
       "      <th>Retail</th>\n",
       "      <td>1.0000</td>\n",
       "      <td>1.000000e+03</td>\n",
       "      <td>44.089540</td>\n",
       "    </tr>\n",
       "    <tr>\n",
       "      <th>Wholesale</th>\n",
       "      <td>1.0100</td>\n",
       "      <td>4.800000e+01</td>\n",
       "      <td>8.552289</td>\n",
       "    </tr>\n",
       "    <tr>\n",
       "      <th>Namibia</th>\n",
       "      <th>NAD</th>\n",
       "      <th>Retail</th>\n",
       "      <td>0.7000</td>\n",
       "      <td>6.856990e+01</td>\n",
       "      <td>10.627170</td>\n",
       "    </tr>\n",
       "    <tr>\n",
       "      <th rowspan=\"2\" valign=\"top\">Niger</th>\n",
       "      <th rowspan=\"2\" valign=\"top\">XOF</th>\n",
       "      <th>Retail</th>\n",
       "      <td>32.0000</td>\n",
       "      <td>2.187500e+03</td>\n",
       "      <td>258.174698</td>\n",
       "    </tr>\n",
       "    <tr>\n",
       "      <th>Wholesale</th>\n",
       "      <td>9000.0000</td>\n",
       "      <td>5.500000e+04</td>\n",
       "      <td>27233.954994</td>\n",
       "    </tr>\n",
       "    <tr>\n",
       "      <th rowspan=\"2\" valign=\"top\">Nigeria</th>\n",
       "      <th rowspan=\"2\" valign=\"top\">NGN</th>\n",
       "      <th>Retail</th>\n",
       "      <td>5.0000</td>\n",
       "      <td>1.700000e+04</td>\n",
       "      <td>365.058666</td>\n",
       "    </tr>\n",
       "    <tr>\n",
       "      <th>Wholesale</th>\n",
       "      <td>64.8369</td>\n",
       "      <td>9.000000e+04</td>\n",
       "      <td>13605.825252</td>\n",
       "    </tr>\n",
       "    <tr>\n",
       "      <th rowspan=\"2\" valign=\"top\">Rwanda</th>\n",
       "      <th rowspan=\"2\" valign=\"top\">RWF</th>\n",
       "      <th>Retail</th>\n",
       "      <td>11.0000</td>\n",
       "      <td>3.323333e+05</td>\n",
       "      <td>1729.005032</td>\n",
       "    </tr>\n",
       "    <tr>\n",
       "      <th>Wholesale</th>\n",
       "      <td>63.3770</td>\n",
       "      <td>8.807460e+02</td>\n",
       "      <td>378.592895</td>\n",
       "    </tr>\n",
       "    <tr>\n",
       "      <th>Senegal</th>\n",
       "      <th>XOF</th>\n",
       "      <th>Retail</th>\n",
       "      <td>90.0000</td>\n",
       "      <td>1.200000e+03</td>\n",
       "      <td>244.034859</td>\n",
       "    </tr>\n",
       "    <tr>\n",
       "      <th>Sierra Leone</th>\n",
       "      <th>SLL</th>\n",
       "      <th>Retail</th>\n",
       "      <td>100.0000</td>\n",
       "      <td>1.666670e+05</td>\n",
       "      <td>12217.162694</td>\n",
       "    </tr>\n",
       "    <tr>\n",
       "      <th>Somalia</th>\n",
       "      <th>SOS</th>\n",
       "      <th>Retail</th>\n",
       "      <td>97.0000</td>\n",
       "      <td>1.725000e+07</td>\n",
       "      <td>112947.340664</td>\n",
       "    </tr>\n",
       "    <tr>\n",
       "      <th>South Africa</th>\n",
       "      <th>ZAR</th>\n",
       "      <th>Wholesale</th>\n",
       "      <td>0.5023</td>\n",
       "      <td>5.757200e+00</td>\n",
       "      <td>2.211281</td>\n",
       "    </tr>\n",
       "    <tr>\n",
       "      <th rowspan=\"2\" valign=\"top\">South Sudan</th>\n",
       "      <th rowspan=\"2\" valign=\"top\">SSP</th>\n",
       "      <th>Retail</th>\n",
       "      <td>1.8000</td>\n",
       "      <td>2.600000e+05</td>\n",
       "      <td>3099.853201</td>\n",
       "    </tr>\n",
       "    <tr>\n",
       "      <th>Wholesale</th>\n",
       "      <td>287.5000</td>\n",
       "      <td>6.500000e+04</td>\n",
       "      <td>9859.198864</td>\n",
       "    </tr>\n",
       "    <tr>\n",
       "      <th rowspan=\"2\" valign=\"top\">Sudan</th>\n",
       "      <th rowspan=\"2\" valign=\"top\">SDG</th>\n",
       "      <th>Retail</th>\n",
       "      <td>0.4975</td>\n",
       "      <td>8.000000e+02</td>\n",
       "      <td>38.224840</td>\n",
       "    </tr>\n",
       "    <tr>\n",
       "      <th>Wholesale</th>\n",
       "      <td>3.0000</td>\n",
       "      <td>2.500000e+04</td>\n",
       "      <td>928.500617</td>\n",
       "    </tr>\n",
       "    <tr>\n",
       "      <th rowspan=\"2\" valign=\"top\">Swaziland</th>\n",
       "      <th rowspan=\"2\" valign=\"top\">SZL</th>\n",
       "      <th>Retail</th>\n",
       "      <td>3.8440</td>\n",
       "      <td>1.142714e+02</td>\n",
       "      <td>15.743829</td>\n",
       "    </tr>\n",
       "    <tr>\n",
       "      <th>Wholesale</th>\n",
       "      <td>50.0000</td>\n",
       "      <td>8.200000e+02</td>\n",
       "      <td>151.335503</td>\n",
       "    </tr>\n",
       "    <tr>\n",
       "      <th>Togo</th>\n",
       "      <th>XOF</th>\n",
       "      <th>Retail</th>\n",
       "      <td>31.0000</td>\n",
       "      <td>7.500000e+02</td>\n",
       "      <td>241.866073</td>\n",
       "    </tr>\n",
       "    <tr>\n",
       "      <th rowspan=\"2\" valign=\"top\">Uganda</th>\n",
       "      <th rowspan=\"2\" valign=\"top\">UGX</th>\n",
       "      <th>Retail</th>\n",
       "      <td>2.0000</td>\n",
       "      <td>1.000000e+04</td>\n",
       "      <td>2041.919797</td>\n",
       "    </tr>\n",
       "    <tr>\n",
       "      <th>Wholesale</th>\n",
       "      <td>203.7490</td>\n",
       "      <td>5.166670e+03</td>\n",
       "      <td>1284.227213</td>\n",
       "    </tr>\n",
       "    <tr>\n",
       "      <th>Zambia</th>\n",
       "      <th>ZMW</th>\n",
       "      <th>Retail</th>\n",
       "      <td>0.0125</td>\n",
       "      <td>1.000000e+02</td>\n",
       "      <td>8.187023</td>\n",
       "    </tr>\n",
       "    <tr>\n",
       "      <th rowspan=\"2\" valign=\"top\">Zimbabwe</th>\n",
       "      <th>USD</th>\n",
       "      <th>Retail</th>\n",
       "      <td>0.1300</td>\n",
       "      <td>2.250000e+02</td>\n",
       "      <td>7.532393</td>\n",
       "    </tr>\n",
       "    <tr>\n",
       "      <th>ZWL</th>\n",
       "      <th>Retail</th>\n",
       "      <td>12.5412</td>\n",
       "      <td>4.225000e+03</td>\n",
       "      <td>201.794740</td>\n",
       "    </tr>\n",
       "  </tbody>\n",
       "</table>\n",
       "</div>"
      ],
      "text/plain": [
       "                                                      min           max  \\\n",
       "country                  currency produce_type                            \n",
       "Algeria                  DZD      Retail           4.0000  1.200000e+03   \n",
       "Angola                   AOA      Retail          35.2000  1.428095e+04   \n",
       "Benin                    XOF      Retail           3.0000  2.184359e+04   \n",
       "                                  Wholesale       71.2500  4.530000e+02   \n",
       "Burundi                  BIF      Retail           1.0000  7.360400e+04   \n",
       "                                  Wholesale      293.6700  1.528853e+03   \n",
       "Cameroon                 XAF      Retail          65.7200  3.000000e+04   \n",
       "                                  Wholesale      400.0000  1.600000e+05   \n",
       "Cape Verde               CVE      Retail          27.4100  3.466700e+02   \n",
       "Central African Republic XAF      Retail           5.0000  1.035341e+04   \n",
       "Chad                     XAF      Retail          15.0000  2.148330e+05   \n",
       "Congo                    XAF      Retail         118.0000  1.380000e+04   \n",
       "Djibouti                 DJF      Retail          22.5000  4.000000e+02   \n",
       "                                  Wholesale     3400.0000  1.450000e+04   \n",
       "Egypt                    EGP      Retail           0.6600  1.504600e+02   \n",
       "Eritrea                  ERN      Retail         900.0000  5.000000e+03   \n",
       "Ethiopia                 ETB      Retail           0.7680  4.800000e+04   \n",
       "                                  Wholesale       43.2500  6.000000e+03   \n",
       "Gabon                    XAF      Retail         303.0000  1.519000e+03   \n",
       "Gambia                   GMD      Retail           0.0000  1.000000e+03   \n",
       "Ghana                    GHS      Retail           0.3200  8.195000e+01   \n",
       "                                  Wholesale        0.8700  2.960780e+03   \n",
       "Guinea                   GNF      Retail         500.0000  9.000000e+04   \n",
       "Guinea-Bissau            XOF      Retail           1.0350  9.464000e+03   \n",
       "Kenya                    KES      Retail           5.0000  7.000000e+02   \n",
       "                                  Wholesale       10.4270  1.035000e+04   \n",
       "Lesotho                  LSL      Retail           5.0000  1.262400e+02   \n",
       "Liberia                  LRD      Retail           5.0000  1.100000e+04   \n",
       "Libya                    LYD      Retail           0.0100  3.339167e+02   \n",
       "Madagascar               MGA      Producer       220.0000  1.103000e+03   \n",
       "                                  Retail         400.0000  9.800000e+03   \n",
       "Malawi                   MWK      Retail           6.4467  1.032578e+04   \n",
       "Mali                     XOF      Retail          20.0000  4.745000e+05   \n",
       "Mauritania               MRO      Retail           8.5000  3.000000e+05   \n",
       "Mozambique               MZN      Retail           1.0000  1.000000e+03   \n",
       "                                  Wholesale        1.0100  4.800000e+01   \n",
       "Namibia                  NAD      Retail           0.7000  6.856990e+01   \n",
       "Niger                    XOF      Retail          32.0000  2.187500e+03   \n",
       "                                  Wholesale     9000.0000  5.500000e+04   \n",
       "Nigeria                  NGN      Retail           5.0000  1.700000e+04   \n",
       "                                  Wholesale       64.8369  9.000000e+04   \n",
       "Rwanda                   RWF      Retail          11.0000  3.323333e+05   \n",
       "                                  Wholesale       63.3770  8.807460e+02   \n",
       "Senegal                  XOF      Retail          90.0000  1.200000e+03   \n",
       "Sierra Leone             SLL      Retail         100.0000  1.666670e+05   \n",
       "Somalia                  SOS      Retail          97.0000  1.725000e+07   \n",
       "South Africa             ZAR      Wholesale        0.5023  5.757200e+00   \n",
       "South Sudan              SSP      Retail           1.8000  2.600000e+05   \n",
       "                                  Wholesale      287.5000  6.500000e+04   \n",
       "Sudan                    SDG      Retail           0.4975  8.000000e+02   \n",
       "                                  Wholesale        3.0000  2.500000e+04   \n",
       "Swaziland                SZL      Retail           3.8440  1.142714e+02   \n",
       "                                  Wholesale       50.0000  8.200000e+02   \n",
       "Togo                     XOF      Retail          31.0000  7.500000e+02   \n",
       "Uganda                   UGX      Retail           2.0000  1.000000e+04   \n",
       "                                  Wholesale      203.7490  5.166670e+03   \n",
       "Zambia                   ZMW      Retail           0.0125  1.000000e+02   \n",
       "Zimbabwe                 USD      Retail           0.1300  2.250000e+02   \n",
       "                         ZWL      Retail          12.5412  4.225000e+03   \n",
       "\n",
       "                                                         mean  \n",
       "country                  currency produce_type                 \n",
       "Algeria                  DZD      Retail           164.961907  \n",
       "Angola                   AOA      Retail          1038.963442  \n",
       "Benin                    XOF      Retail           616.286497  \n",
       "                                  Wholesale        188.163428  \n",
       "Burundi                  BIF      Retail          2523.920066  \n",
       "                                  Wholesale        777.709002  \n",
       "Cameroon                 XAF      Retail          1969.496117  \n",
       "                                  Wholesale      25499.473397  \n",
       "Cape Verde               CVE      Retail            87.230546  \n",
       "Central African Republic XAF      Retail           980.444644  \n",
       "Chad                     XAF      Retail          6402.038909  \n",
       "Congo                    XAF      Retail          1461.473620  \n",
       "Djibouti                 DJF      Retail           152.346725  \n",
       "                                  Wholesale       6818.259386  \n",
       "Egypt                    EGP      Retail            19.291319  \n",
       "Eritrea                  ERN      Retail          2272.000000  \n",
       "Ethiopia                 ETB      Retail          1266.349868  \n",
       "                                  Wholesale       1122.492621  \n",
       "Gabon                    XAF      Retail           691.063492  \n",
       "Gambia                   GMD      Retail            56.864125  \n",
       "Ghana                    GHS      Retail             4.739632  \n",
       "                                  Wholesale        147.103357  \n",
       "Guinea                   GNF      Retail         10879.303370  \n",
       "Guinea-Bissau            XOF      Retail           877.138516  \n",
       "Kenya                    KES      Retail            94.702955  \n",
       "                                  Wholesale       2292.169342  \n",
       "Lesotho                  LSL      Retail            33.346925  \n",
       "Liberia                  LRD      Retail          1273.684710  \n",
       "Libya                    LYD      Retail             5.647125  \n",
       "Madagascar               MGA      Producer         666.338710  \n",
       "                                  Retail          2601.871071  \n",
       "Malawi                   MWK      Retail           271.992494  \n",
       "Mali                     XOF      Retail          2456.511270  \n",
       "Mauritania               MRO      Retail          2419.777530  \n",
       "Mozambique               MZN      Retail            44.089540  \n",
       "                                  Wholesale          8.552289  \n",
       "Namibia                  NAD      Retail            10.627170  \n",
       "Niger                    XOF      Retail           258.174698  \n",
       "                                  Wholesale      27233.954994  \n",
       "Nigeria                  NGN      Retail           365.058666  \n",
       "                                  Wholesale      13605.825252  \n",
       "Rwanda                   RWF      Retail          1729.005032  \n",
       "                                  Wholesale        378.592895  \n",
       "Senegal                  XOF      Retail           244.034859  \n",
       "Sierra Leone             SLL      Retail         12217.162694  \n",
       "Somalia                  SOS      Retail        112947.340664  \n",
       "South Africa             ZAR      Wholesale          2.211281  \n",
       "South Sudan              SSP      Retail          3099.853201  \n",
       "                                  Wholesale       9859.198864  \n",
       "Sudan                    SDG      Retail            38.224840  \n",
       "                                  Wholesale        928.500617  \n",
       "Swaziland                SZL      Retail            15.743829  \n",
       "                                  Wholesale        151.335503  \n",
       "Togo                     XOF      Retail           241.866073  \n",
       "Uganda                   UGX      Retail          2041.919797  \n",
       "                                  Wholesale       1284.227213  \n",
       "Zambia                   ZMW      Retail             8.187023  \n",
       "Zimbabwe                 USD      Retail             7.532393  \n",
       "                         ZWL      Retail           201.794740  "
      ]
     },
     "execution_count": 28,
     "metadata": {},
     "output_type": "execute_result"
    }
   ],
   "source": [
    "df_grp['price'].agg(['min', 'max', 'mean']).infer_objects()"
   ]
  },
  {
   "cell_type": "code",
   "execution_count": null,
   "id": "08fa6a92-7602-491e-b8a5-7b9cbd15a3c1",
   "metadata": {},
   "outputs": [],
   "source": []
  },
  {
   "cell_type": "code",
   "execution_count": null,
   "id": "c304c052-2cd6-46a1-a6b7-622f223e5e7a",
   "metadata": {},
   "outputs": [],
   "source": []
  },
  {
   "cell_type": "code",
   "execution_count": null,
   "id": "db5bc0e8-40fa-4da4-a9c2-14fed5f6cd6a",
   "metadata": {},
   "outputs": [],
   "source": []
  },
  {
   "cell_type": "code",
   "execution_count": null,
   "id": "3ca2cbee-f793-4fee-b7ee-7f59fe3c94bd",
   "metadata": {},
   "outputs": [],
   "source": []
  },
  {
   "cell_type": "code",
   "execution_count": null,
   "id": "ff1bd367-054e-4e40-b84d-245ad36b6158",
   "metadata": {},
   "outputs": [],
   "source": []
  },
  {
   "cell_type": "code",
   "execution_count": null,
   "id": "0602177b-5034-4df2-9a9a-b4fa0bf249ff",
   "metadata": {},
   "outputs": [],
   "source": []
  }
 ],
 "metadata": {
  "kernelspec": {
   "display_name": "Python 3 (ipykernel)",
   "language": "python",
   "name": "python3"
  },
  "language_info": {
   "codemirror_mode": {
    "name": "ipython",
    "version": 3
   },
   "file_extension": ".py",
   "mimetype": "text/x-python",
   "name": "python",
   "nbconvert_exporter": "python",
   "pygments_lexer": "ipython3",
   "version": "3.11.5"
  }
 },
 "nbformat": 4,
 "nbformat_minor": 5
}
